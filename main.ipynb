{
 "cells": [
  {
   "cell_type": "markdown",
   "metadata": {},
   "source": [
    "# Run pip install -r requirements.txt\n"
   ]
  },
  {
   "cell_type": "code",
   "execution_count": 14,
   "metadata": {},
   "outputs": [],
   "source": [
    "import json, re, pickle\n",
    "import pandas as pd\n",
    "from sklearn.model_selection import train_test_split\n",
    "from sklearn.feature_extraction.text import TfidfVectorizer\n",
    "from sklearn.linear_model import LogisticRegression\n",
    "from sklearn.metrics import classification_report"
   ]
  },
  {
   "cell_type": "markdown",
   "metadata": {},
   "source": [
    "Load dataset"
   ]
  },
  {
   "cell_type": "code",
   "execution_count": 15,
   "metadata": {},
   "outputs": [],
   "source": [
    "with open('questions.json', 'r') as file:\n",
    "    data = json.load(file)"
   ]
  },
  {
   "cell_type": "markdown",
   "metadata": {},
   "source": [
    "Convert JSON to DataFrame for easier handling and Check data"
   ]
  },
  {
   "cell_type": "code",
   "execution_count": 16,
   "metadata": {},
   "outputs": [
    {
     "name": "stdout",
     "output_type": "stream",
     "text": [
      "                                       question_text  \\\n",
      "0  What is the thickness of the drywall in the re...   \n",
      "1   How many filters does JCI owe in their contract?   \n",
      "2  what CB will the changes resulting from RFI 18...   \n",
      "3         What's the flooring type in the penthouse?   \n",
      "4  what CB will the changes resulting from RFI 18...   \n",
      "\n",
      "                   created_at                               user_id  \n",
      "0  2024-01-19 15:56:34.383+00  64201228-e558-4722-962e-69c831e1ea8f  \n",
      "1  2023-11-08 16:06:17.035+00  64201228-e558-4722-962e-69c831e1ea8f  \n",
      "2  2024-01-10 14:22:33.006+00  4f697825-9bb6-4fa6-b3ab-a46dc6d42919  \n",
      "3  2024-01-10 20:55:19.668+00  fcad35ff-bb4b-435d-84f9-2f3b00c24f57  \n",
      "4  2024-01-16 21:36:23.569+00  4f697825-9bb6-4fa6-b3ab-a46dc6d42919  \n"
     ]
    }
   ],
   "source": [
    "df = pd.DataFrame(data)\n",
    "print(df.head())"
   ]
  },
  {
   "cell_type": "markdown",
   "metadata": {},
   "source": [
    "PreProcess"
   ]
  },
  {
   "cell_type": "code",
   "execution_count": 17,
   "metadata": {},
   "outputs": [],
   "source": [
    "df['question_text'] = df['question_text'].str.strip()"
   ]
  },
  {
   "cell_type": "markdown",
   "metadata": {},
   "source": [
    "# Add labels based on predefined categories"
   ]
  },
  {
   "cell_type": "code",
   "execution_count": 18,
   "metadata": {},
   "outputs": [
    {
     "name": "stdout",
     "output_type": "stream",
     "text": [
      "                                       question_text  \\\n",
      "0  What is the thickness of the drywall in the re...   \n",
      "1   How many filters does JCI owe in their contract?   \n",
      "2  what CB will the changes resulting from RFI 18...   \n",
      "3         What's the flooring type in the penthouse?   \n",
      "4  what CB will the changes resulting from RFI 18...   \n",
      "\n",
      "                   created_at                               user_id  \\\n",
      "0  2024-01-19 15:56:34.383+00  64201228-e558-4722-962e-69c831e1ea8f   \n",
      "1  2023-11-08 16:06:17.035+00  64201228-e558-4722-962e-69c831e1ea8f   \n",
      "2  2024-01-10 14:22:33.006+00  4f697825-9bb6-4fa6-b3ab-a46dc6d42919   \n",
      "3  2024-01-10 20:55:19.668+00  fcad35ff-bb4b-435d-84f9-2f3b00c24f57   \n",
      "4  2024-01-16 21:36:23.569+00  4f697825-9bb6-4fa6-b3ab-a46dc6d42919   \n",
      "\n",
      "                  category  \n",
      "0   Material Specification  \n",
      "1  Contractual Obligations  \n",
      "2                    Other  \n",
      "3                    Other  \n",
      "4                    Other  \n"
     ]
    }
   ],
   "source": [
    "def classify_question(text):\n",
    "    if re.search(r'thickness|dimensions|material|specification', text, re.IGNORECASE):\n",
    "        return \"Material Specification\"\n",
    "    elif re.search(r'contract|owe|deadline|deliverables', text, re.IGNORECASE):\n",
    "        return \"Contractual Obligations\"\n",
    "    elif re.search(r'who|responsible|which', text, re.IGNORECASE):\n",
    "        return \"Responsibility Assignment\"\n",
    "    elif re.search(r'find|locate|document|status|information', text, re.IGNORECASE):\n",
    "        return \"Document or Information Requests\"\n",
    "    elif re.search(r'how|process|steps|guidance', text, re.IGNORECASE):\n",
    "        return \"Technical Guidance\"\n",
    "    elif re.search(r'when|schedule|timeline|milestone', text, re.IGNORECASE):\n",
    "        return \"Project Timeline\"\n",
    "    else:\n",
    "        return \"Other\"\n",
    "\n",
    "df['category'] = df['question_text'].apply(classify_question)\n",
    "print(df.head())\n"
   ]
  },
  {
   "cell_type": "markdown",
   "metadata": {},
   "source": [
    "# Split data into features and labels"
   ]
  },
  {
   "cell_type": "code",
   "execution_count": 19,
   "metadata": {},
   "outputs": [],
   "source": [
    "x = df['question_text']\n",
    "y = df['category']\n",
    "\n",
    "x_train, x_test, y_train, y_test = train_test_split(x, y, test_size=0.2, random_state=42)"
   ]
  },
  {
   "cell_type": "markdown",
   "metadata": {},
   "source": [
    "# Convert text to TF-IDF features\n"
   ]
  },
  {
   "cell_type": "code",
   "execution_count": 20,
   "metadata": {},
   "outputs": [],
   "source": [
    "vectorizer = TfidfVectorizer(max_features=500)\n",
    "x_train_tfidf = vectorizer.fit_transform(x_train)\n",
    "x_test_tfidf = vectorizer.transform(x_test)"
   ]
  },
  {
   "cell_type": "code",
   "execution_count": 21,
   "metadata": {},
   "outputs": [],
   "source": [
    "# Train Logistic Regression Classifier\n",
    "model = LogisticRegression(random_state=42)\n",
    "model.fit(x_train_tfidf, y_train)\n",
    "\n",
    "# Make predictions\n",
    "y_pred = model.predict(x_test_tfidf)\n"
   ]
  },
  {
   "cell_type": "code",
   "execution_count": 22,
   "metadata": {},
   "outputs": [
    {
     "name": "stdout",
     "output_type": "stream",
     "text": [
      "Classification Report:\n",
      "\n",
      "                                  precision    recall  f1-score   support\n",
      "\n",
      "Document or Information Requests       1.00      0.09      0.17        11\n",
      "          Material Specification       1.00      0.33      0.50        15\n",
      "                           Other       0.75      1.00      0.86        63\n",
      "       Responsibility Assignment       0.00      0.00      0.00         3\n",
      "              Technical Guidance       0.86      0.95      0.90        19\n",
      "\n",
      "                        accuracy                           0.78       111\n",
      "                       macro avg       0.72      0.47      0.48       111\n",
      "                    weighted avg       0.81      0.78      0.72       111\n",
      "\n"
     ]
    },
    {
     "name": "stderr",
     "output_type": "stream",
     "text": [
      "c:\\Python311\\Lib\\site-packages\\sklearn\\metrics\\_classification.py:1509: UndefinedMetricWarning: Precision is ill-defined and being set to 0.0 in labels with no predicted samples. Use `zero_division` parameter to control this behavior.\n",
      "  _warn_prf(average, modifier, f\"{metric.capitalize()} is\", len(result))\n",
      "c:\\Python311\\Lib\\site-packages\\sklearn\\metrics\\_classification.py:1509: UndefinedMetricWarning: Precision is ill-defined and being set to 0.0 in labels with no predicted samples. Use `zero_division` parameter to control this behavior.\n",
      "  _warn_prf(average, modifier, f\"{metric.capitalize()} is\", len(result))\n",
      "c:\\Python311\\Lib\\site-packages\\sklearn\\metrics\\_classification.py:1509: UndefinedMetricWarning: Precision is ill-defined and being set to 0.0 in labels with no predicted samples. Use `zero_division` parameter to control this behavior.\n",
      "  _warn_prf(average, modifier, f\"{metric.capitalize()} is\", len(result))\n"
     ]
    }
   ],
   "source": [
    "# Evaluate the model\n",
    "print(\"Classification Report:\\n\")\n",
    "print(classification_report(y_test, y_pred))\n"
   ]
  },
  {
   "cell_type": "markdown",
   "metadata": {},
   "source": [
    "# !Test on new questions"
   ]
  },
  {
   "cell_type": "code",
   "execution_count": 23,
   "metadata": {},
   "outputs": [],
   "source": [
    "new_questions = [\n",
    "    \"What is the thickness of the drywall in the residence?\",\n",
    "    \"How many filters does JCI owe in their contract?\",\n",
    "    \"Who is responsible for waterproofing?\",\n",
    "    \"Where can I find the latest drawings?\"\n",
    "]\n",
    "\n",
    "\n",
    "new_questions_tfidf = vectorizer.transform(new_questions)\n",
    "predictions = model.predict(new_questions_tfidf)"
   ]
  },
  {
   "cell_type": "markdown",
   "metadata": {},
   "source": [
    "# Display results\n"
   ]
  },
  {
   "cell_type": "code",
   "execution_count": 24,
   "metadata": {},
   "outputs": [
    {
     "name": "stdout",
     "output_type": "stream",
     "text": [
      "Question: What is the thickness of the drywall in the residence? -> Predicted Category: Material Specification\n",
      "Question: How many filters does JCI owe in their contract? -> Predicted Category: Contractual Obligations\n",
      "Question: Who is responsible for waterproofing? -> Predicted Category: Other\n",
      "Question: Where can I find the latest drawings? -> Predicted Category: Document or Information Requests\n"
     ]
    }
   ],
   "source": [
    "\n",
    "for question, category in zip(new_questions, predictions):\n",
    "    print(f\"Question: {question} -> Predicted Category: {category}\")\n"
   ]
  },
  {
   "cell_type": "markdown",
   "metadata": {},
   "source": [
    "# Save model & vectorizer if Needed\n"
   ]
  },
  {
   "cell_type": "code",
   "execution_count": null,
   "metadata": {},
   "outputs": [],
   "source": [
    "# Change to True if you want to save the model\n",
    "need_to_save = False"
   ]
  },
  {
   "cell_type": "code",
   "execution_count": 27,
   "metadata": {},
   "outputs": [],
   "source": [
    "if (need_to_save):   \n",
    "    with open('model/question_classifier.pkl', 'wb') as model_file:\n",
    "        pickle.dump(model, model_file)\n",
    "\n",
    "    with open('model/vectorizer.pkl', 'wb') as vec_file:\n",
    "        pickle.dump(vectorizer, vec_file)\n"
   ]
  }
 ],
 "metadata": {
  "kernelspec": {
   "display_name": "Python 3",
   "language": "python",
   "name": "python3"
  },
  "language_info": {
   "codemirror_mode": {
    "name": "ipython",
    "version": 3
   },
   "file_extension": ".py",
   "mimetype": "text/x-python",
   "name": "python",
   "nbconvert_exporter": "python",
   "pygments_lexer": "ipython3",
   "version": "3.11.5"
  }
 },
 "nbformat": 4,
 "nbformat_minor": 2
}
